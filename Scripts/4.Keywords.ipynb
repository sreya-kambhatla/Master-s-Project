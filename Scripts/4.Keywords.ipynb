{
 "cells": [
  {
   "cell_type": "markdown",
   "metadata": {},
   "source": [
    "# Finding Keywords"
   ]
  },
  {
   "cell_type": "markdown",
   "metadata": {},
   "source": [
    "## RAKE! Keywords Testing"
   ]
  },
  {
   "cell_type": "code",
   "execution_count": 18,
   "metadata": {},
   "outputs": [
    {
     "name": "stderr",
     "output_type": "stream",
     "text": [
      "[nltk_data] Downloading package stopwords to\n",
      "[nltk_data]     C:\\Users\\ksrey\\AppData\\Roaming\\nltk_data...\n",
      "[nltk_data]   Package stopwords is already up-to-date!\n",
      "[nltk_data] Downloading package punkt to\n",
      "[nltk_data]     C:\\Users\\ksrey\\AppData\\Roaming\\nltk_data...\n",
      "[nltk_data]   Package punkt is already up-to-date!\n"
     ]
    },
    {
     "data": {
      "text/plain": [
       "True"
      ]
     },
     "execution_count": 18,
     "metadata": {},
     "output_type": "execute_result"
    }
   ],
   "source": [
    "import nltk\n",
    "nltk.download('stopwords')\n",
    "nltk.download('punkt')"
   ]
  },
  {
   "cell_type": "code",
   "execution_count": 19,
   "metadata": {},
   "outputs": [
    {
     "name": "stdout",
     "output_type": "stream",
     "text": [
      "rapid automatic keyword extraction\n",
      "python library\n",
      "main keywords\n",
      "used\n",
      "text\n",
      "rake\n",
      "extract\n"
     ]
    }
   ],
   "source": [
    "from rake_nltk import Rake\n",
    "\n",
    "test_input = \"RAKE (Rapid Automatic Keyword Extraction) is a python library that can be used to extract the main keywords in a text.\"\n",
    "r = Rake()\n",
    "r.extract_keywords_from_text(test_input)\n",
    "\n",
    "keywords_list = r.get_ranked_phrases()\n",
    "\n",
    "# Convert the list of keywords into a string\n",
    "keywords_str = \"\\n\".join(keywords_list)\n",
    "\n",
    "print(keywords_str)"
   ]
  },
  {
   "cell_type": "markdown",
   "metadata": {},
   "source": [
    "## Applying Keywords to the Data frame"
   ]
  },
  {
   "cell_type": "code",
   "execution_count": 14,
   "metadata": {},
   "outputs": [],
   "source": [
    "# Applying Keywords to the Data frame\n",
    "\n",
    "from rake_nltk import Rake\n",
    "import pandas as pd\n",
    "from collections import Counter\n",
    "import numpy as np\n",
    "\n",
    "data = pd.read_csv('C:\\Program Files (x86)\\Visual Studio Code\\Python\\Masters_Project\\Data Sets\\Trip-Advisor-rating-sentiments.csv')\n",
    "\n",
    "def extract_keywords(text):\n",
    "    rake = Rake()\n",
    "    rake.extract_keywords_from_text(text)\n",
    "    return rake.get_ranked_phrases()\n",
    "\n",
    "data[\"keywords\"] = data[\"Review\"].apply(extract_keywords)\n",
    "\n",
    "words = []\n",
    "for x in data.keywords.values:\n",
    "    words.extend(x)\n",
    "\n",
    "## You can remove duplicates using set().\n",
    "words = list(set(words))"
   ]
  },
  {
   "cell_type": "markdown",
   "metadata": {},
   "source": [
    "## Using Python Counter"
   ]
  },
  {
   "cell_type": "code",
   "execution_count": 15,
   "metadata": {},
   "outputs": [],
   "source": [
    "# Create a list called 'words' that will store all the unique keywords extracted from the reviews\n",
    "words = []\n",
    "for review_keywords in data['keywords']:\n",
    "    words.extend(review_keywords)\n",
    "\n",
    "# Create a counter that will count the frequency of each word\n",
    "word_counter = Counter(words)\n",
    "\n",
    "# Create a new data frame that contains the unique keywords and their counts\n",
    "word_df = pd.DataFrame(np.array(list(word_counter.items())), columns=[\"keyword\", \"count\"])"
   ]
  },
  {
   "cell_type": "markdown",
   "metadata": {},
   "source": [
    "## Top 10 Keywords"
   ]
  },
  {
   "cell_type": "code",
   "execution_count": null,
   "metadata": {},
   "outputs": [],
   "source": [
    "word_df[\"count\"] = word_df[\"count\"].astype(int)\n",
    "\n",
    "# Sort values by count in descending order\n",
    "word_df = word_df.sort_values([\"count\"], ascending=False)\n",
    "\n",
    "# Select top 20 words\n",
    "top_20 = word_df[0:19]\n",
    "\n",
    "# Display the first 10 words in word_df\n",
    "word_df.head(10)"
   ]
  },
  {
   "cell_type": "markdown",
   "metadata": {},
   "source": [
    "## Bar plot of Top 20 Keywords"
   ]
  },
  {
   "cell_type": "code",
   "execution_count": null,
   "metadata": {},
   "outputs": [],
   "source": [
    "import seaborn as sns\n",
    "import matplotlib.pyplot as plt\n",
    "\n",
    "sns.set(rc={'figure.figsize':(15,8)})\n",
    "fig, ax = plt.subplots()\n",
    "\n",
    "# Color palette for bar plot\n",
    "sns.set_palette(\"husl\", 9)\n",
    "\n",
    "# Plot the bar plot\n",
    "ax = sns.barplot(data=top_20,x=\"keyword\",y=\"count\")\n",
    "\n",
    "# Set the title\n",
    "ax.set_title(\"Top 20 Keywords\",fontsize=20)\n",
    "\n",
    "# Set the visibility of the patch\n",
    "ax.patch.set_visible(False)\n",
    "\n",
    "# Rotate the x-axis labels\n",
    "ax.tick_params(axis='x', labelrotation = 45)\n",
    "\n",
    "# Show the plot\n",
    "plt.show()"
   ]
  }
 ],
 "metadata": {
  "kernelspec": {
   "display_name": "Python 3",
   "language": "python",
   "name": "python3"
  },
  "language_info": {
   "codemirror_mode": {
    "name": "ipython",
    "version": 3
   },
   "file_extension": ".py",
   "mimetype": "text/x-python",
   "name": "python",
   "nbconvert_exporter": "python",
   "pygments_lexer": "ipython3",
   "version": "3.10.3"
  }
 },
 "nbformat": 4,
 "nbformat_minor": 2
}
