{
 "cells": [
  {
   "cell_type": "markdown",
   "metadata": {},
   "source": [
    "## Count plot for Sentiments"
   ]
  },
  {
   "cell_type": "code",
   "execution_count": null,
   "metadata": {},
   "outputs": [],
   "source": [
    "# Visualize the sentiment distribution (count plot)\n",
    "import seaborn as sns\n",
    "import pandas as pd\n",
    "import matplotlib.pyplot as plt\n",
    "data=pd.read_csv('Hotel-rating-sentiments.csv')\n",
    "sns.countplot(data=data, x=\"Sentiment\", palette=\"Set1\", edgecolor=\"black\")\n",
    "plt.title(\"Sentiment Distribution\")\n",
    "plt.xlabel(\"Sentiment\")\n",
    "plt.ylabel(\"Frequency\")\n",
    "plt.show()"
   ]
  },
  {
   "cell_type": "markdown",
   "metadata": {},
   "source": [
    "# Visualizations"
   ]
  },
  {
   "cell_type": "markdown",
   "metadata": {},
   "source": [
    "## Bar Graph for Sentiments and Ratings "
   ]
  },
  {
   "cell_type": "code",
   "execution_count": null,
   "metadata": {},
   "outputs": [],
   "source": [
    "import seaborn as sns\n",
    "import pandas as pd\n",
    "import matplotlib.pyplot as plt\n",
    "import plotly.express as px\n",
    "data=pd.read_csv('Hotel-rating-sentiments.csv')\n",
    "\n",
    "# Preparing data for visualization\n",
    "Viz_1 = data[['Hotel Rating','Sentiment']].value_counts().rename_axis(['Hotel Rating','Sentiment']).reset_index(name='counts')\n",
    "\n",
    "# Plotting the Bar Graph for sentiment and ratings\n",
    "fig = px.bar(Viz_1, x='Hotel Rating', y='counts', color='Sentiment',\n",
    "             color_discrete_sequence=px.colors.qualitative.Pastel,\n",
    "             title=\"Sentiment and Ratings\",labels={'x':'Ratings','y':'Total Number'})\n",
    "fig.show()"
   ]
  },
  {
   "cell_type": "markdown",
   "metadata": {},
   "source": [
    "## Pie Chart for Ratings"
   ]
  },
  {
   "cell_type": "code",
   "execution_count": null,
   "metadata": {},
   "outputs": [],
   "source": [
    "# Pie chart for Ratings\n",
    "import seaborn as sns\n",
    "import pandas as pd\n",
    "import matplotlib.pyplot as plt\n",
    "import plotly.express as px\n",
    "data=pd.read_csv('Hotel-rating-sentiments.csv')\n",
    "\n",
    "# Viz2 Data preparation\n",
    "Viz_2 = data['Hotel Rating'].value_counts().rename_axis(['Hotel Rating']).reset_index(name='counts')\n",
    "\n",
    "# Plotting pie chart for ratings\n",
    "fig_pie = px.pie(data_frame=Viz_2, values='counts', names='Hotel Rating',\n",
    "                 title='Rating Distribution of the Data',\n",
    "                 color_discrete_sequence=px.colors.qualitative.Bold)\n",
    "fig_pie.show()"
   ]
  },
  {
   "cell_type": "markdown",
   "metadata": {},
   "source": [
    "## Violin Plot for the Relationship between Ratings and Sentiments"
   ]
  },
  {
   "cell_type": "code",
   "execution_count": null,
   "metadata": {},
   "outputs": [],
   "source": [
    "# Violin Plot\n",
    "import plotly.graph_objects as go\n",
    "import pandas as pd\n",
    "\n",
    "Ratings = [1,2,3,4,5]\n",
    "\n",
    "fig = go.Figure()\n",
    "\n",
    "data=pd.read_csv('Hotel-rating-sentiments.csv')\n",
    "\n",
    "for rating in Ratings:\n",
    "    violin_data = data[data['Hotel Rating'] == rating]\n",
    "    fig.add_trace(go.Violin(x=violin_data['Hotel Rating'],\n",
    "                            y=violin_data['Sentiment'],\n",
    "                            name=rating,\n",
    "                            box_visible=True,\n",
    "                            meanline_visible=True))\n",
    "\n",
    "fig.update_layout(\n",
    "    title=\"Violin Plot of Rating and Sentiment Score with Box Plot\",\n",
    "    xaxis_title=\"Rating\",\n",
    "    yaxis_title=\"Sentiment Score\",\n",
    "    font=dict(\n",
    "        family=\"Courier New, monospace\",\n",
    "        size=15,\n",
    "    )\n",
    ")\n",
    "\n",
    "fig.show()"
   ]
  },
  {
   "cell_type": "markdown",
   "metadata": {},
   "source": [
    "## Pandas Profiling"
   ]
  },
  {
   "cell_type": "code",
   "execution_count": null,
   "metadata": {},
   "outputs": [],
   "source": [
    "#import numpy as np\n",
    "import pandas as pd\n",
    "from ydata_profiling import ProfileReport\n",
    "\n",
    "# Load dataset\n",
    "data = pd.read_csv(\"Hotel-rating-sentiments.csv\", encoding='ISO-8859-1')\n",
    "\n",
    "# Profiling Report\n",
    "profile = ProfileReport(data, title=\"Profiling Report\", html={'style':{'full_width':True }})\n",
    "\n",
    "# Save report\n",
    "profile.to_file(\"Pandas_Profiling_Report.html\")"
   ]
  },
  {
   "cell_type": "markdown",
   "metadata": {},
   "source": [
    "## Word Cloud for Different Sentiments "
   ]
  },
  {
   "cell_type": "code",
   "execution_count": null,
   "metadata": {},
   "outputs": [],
   "source": [
    "from textblob import TextBlob\n",
    "import matplotlib.pyplot as plt\n",
    "from wordcloud import WordCloud\n",
    "import pandas as pd\n",
    "\n",
    "# Assuming 'data' is a pandas DataFrame containing the movie reviews\n",
    "# Assuming the column with the reviews is named 'Review'\n",
    "data = pd.read_csv('Hotel-rating-sentiments.csv')\n",
    "\n",
    "def generate_wordcloud(data, sentiment):\n",
    "    # Create an empty string to store the reviews\n",
    "    text = ''\n",
    "    \n",
    "    # Iterate through the reviews in the given sentiment\n",
    "    for review in data[data['Sentiment'] == sentiment]['Customer Review'].values:\n",
    "        text += review + ' '\n",
    "    \n",
    "    # Create a WordCloud object\n",
    "    wc = WordCloud(width=800, height=800, background_color=\"white\", min_font_size=10,\n",
    "                   repeat=True,)\n",
    "    \n",
    "    # Generate the word cloud from the reviews\n",
    "    wc.generate(text)\n",
    "    \n",
    "    # Display the word cloud\n",
    "    plt.figure(figsize=(8, 8), facecolor=None)\n",
    "    plt.axis(\"off\")\n",
    "    plt.imshow(wc, interpolation=\"bilinear\")\n",
    "    plt.title(sentiment + ' Reviews', fontsize=32);\n",
    "\n",
    "# Example usage: Generate word cloud for positive reviews\n",
    "generate_wordcloud(data, 'Positive')"
   ]
  },
  {
   "cell_type": "markdown",
   "metadata": {},
   "source": [
    "## Word Cloud for All 3 Sentiments"
   ]
  },
  {
   "cell_type": "code",
   "execution_count": null,
   "metadata": {},
   "outputs": [],
   "source": [
    "# Import necessary libraries\n",
    "import matplotlib.pyplot as plt\n",
    "from wordcloud import WordCloud\n",
    "import numpy as np\n",
    "import pandas as pd\n",
    "from PIL import Image\n",
    "\n",
    "data = pd.read_csv('Hotel-rating-sentiments.csv')\n",
    "\n",
    "# Defining a function to generate word cloud for reviews of different sentiments\n",
    "def generate_wordcloud(data, sentiment, title, ax):\n",
    "    text = ' '.join(data[data['Sentiment'] == sentiment]['Customer Review'].values)\n",
    "    \n",
    "    mask = np.array(Image.open(\"cloud.png\"))\n",
    "    \n",
    "    wc = WordCloud(width=800, height=800, background_color=\"white\", min_font_size=10,\n",
    "                   repeat=True, mask=mask)\n",
    "    wc.generate(text)\n",
    "    \n",
    "    ax.axis(\"off\")\n",
    "    ax.imshow(wc, interpolation=\"bilinear\")\n",
    "    ax.set_title(title, fontsize=20)\n",
    "\n",
    "# Generating word clouds for positive, neutral, and negative reviews\n",
    "fig, axes = plt.subplots(1, 3, figsize=[20, 10], facecolor=None)\n",
    "\n",
    "generate_wordcloud(data, 'Positive', 'Positive Reviews', axes[0])\n",
    "\n",
    "generate_wordcloud(data, 'Negative', 'Negative Reviews', axes[1])\n",
    "\n",
    "generate_wordcloud(data, 'Neutral', 'Neutral Reviews', axes[2])\n",
    "\n",
    "plt.show()"
   ]
  },
  {
   "cell_type": "markdown",
   "metadata": {},
   "source": [
    "## Word Cloud for All 5 Ratings"
   ]
  },
  {
   "cell_type": "code",
   "execution_count": null,
   "metadata": {},
   "outputs": [],
   "source": [
    "import matplotlib.pyplot as plt\n",
    "from wordcloud import WordCloud\n",
    "import numpy as np\n",
    "import pandas as pd\n",
    "\n",
    "data = pd.read_csv('Hotel-rating-sentiments.csv')\n",
    "\n",
    "# Defining a function to generate word clouds\n",
    "def generate_wordcloud(reviews, rating):\n",
    "    text = ' '.join(reviews)\n",
    "    \n",
    "    x, y = np.ogrid[:300, :300]\n",
    "    \n",
    "    mask = (x - 150) ** 2 + (y - 150) ** 2 > 130 ** 2\n",
    "    mask = 255 * mask.astype(int)\n",
    "    \n",
    "    wc = WordCloud(width = 800, height = 800, background_color=\"white\", min_font_size = 10,\n",
    "                   repeat=True, mask=mask, contour_width=10)\n",
    "    wc.generate(text)\n",
    "    \n",
    "    return wc\n",
    "\n",
    "# Generating word clouds for different hotel ratings\n",
    "fig, axes = plt.subplots(1, 5, figsize=[20, 14], facecolor = None)\n",
    "\n",
    "for i, rating in enumerate(range(1, 6)):\n",
    "    rating_reviews = data[data['Hotel Rating'] == rating]['Customer Review'].values\n",
    "    wc = generate_wordcloud(rating_reviews, rating)\n",
    "    \n",
    "    axes[i].axis(\"off\")\n",
    "    axes[i].imshow(wc, interpolation=\"bilinear\")\n",
    "    axes[i].set_title(f'Hotel Rating: {rating}', fontsize=20);\n",
    "\n",
    "plt.show()"
   ]
  }
 ],
 "metadata": {
  "language_info": {
   "name": "python"
  }
 },
 "nbformat": 4,
 "nbformat_minor": 2
}
