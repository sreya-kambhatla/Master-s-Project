{
 "cells": [
  {
   "cell_type": "markdown",
   "metadata": {},
   "source": [
    "# Exploring Data Set"
   ]
  },
  {
   "cell_type": "markdown",
   "metadata": {},
   "source": [
    "## Pre-Processing with Vader Sentiment Analysis"
   ]
  },
  {
   "cell_type": "markdown",
   "metadata": {},
   "source": [
    "### Compound Score and Sentiment"
   ]
  },
  {
   "cell_type": "code",
   "execution_count": null,
   "metadata": {},
   "outputs": [],
   "source": [
    "import nltk\n",
    "nltk.download('vader_lexicon')\n",
    "\n",
    "## Creating sentimental polarity \n",
    "def get_compound_score(txt):\n",
    "    analyzer = SentimentIntensityAnalyzer()\n",
    "    scores = analyzer.polarity_scores(txt)\n",
    "    return scores[\"compound\"]\n",
    "\n",
    "## Sentiments\n",
    "def get_sentiment(score):\n",
    "    if score >= 0.5:\n",
    "        return \"Positive\"\n",
    "    elif score <= -0.5:\n",
    "        return \"Negative\"\n",
    "    else:\n",
    "        return \"Neutral\"\n"
   ]
  },
  {
   "cell_type": "markdown",
   "metadata": {},
   "source": [
    "### Applying Functions"
   ]
  },
  {
   "cell_type": "code",
   "execution_count": null,
   "metadata": {},
   "outputs": [],
   "source": [
    "import pandas as pd\n",
    "from vaderSentiment.vaderSentiment import SentimentIntensityAnalyzer\n",
    "import time\n",
    "\n",
    "def apply_sentiment(score):\n",
    "    if score > 0.2:\n",
    "        return \"Positive\"\n",
    "    elif score < -0.2:\n",
    "        return \"Negative\"\n",
    "    else:\n",
    "        return \"Neutral\"\n",
    "\n",
    "# Reading CSV file\n",
    "df = pd.read_csv(\"hotel_reviews.csv\")\n",
    "\n",
    "# Creating SentimentIntensityAnalyzer object\n",
    "sia = SentimentIntensityAnalyzer()\n",
    "\n",
    "# Initializing the columns for sentiment scores and sentiments\n",
    "df[\"Sentiment_Score\"] = 0\n",
    "df[\"Sentiment\"] = \"\"\n",
    "\n",
    "# Iterating through the rows to apply sentiment scores and sentiments\n",
    "for i in range(len(df)):\n",
    "    # Extracting review from the dataframe\n",
    "    review = df.loc[i, \"Customer Review\"]\n",
    "\n",
    "    # Getting sentiment score for the review\n",
    "    sentiment_score = sia.polarity_scores(review)[\"compound\"]\n",
    "\n",
    "    # Applying sentiment for the review\n",
    "    sentiment = apply_sentiment(sentiment_score)\n",
    "\n",
    "    # Storing sentiment score and sentiment in the dataframe\n",
    "    df.loc[i, \"Sentiment_Score\"] = sentiment_score\n",
    "    df.loc[i, \"Sentiment\"] = sentiment\n",
    "\n",
    "    # Printing progress\n",
    "    if i % 10000 == 0:\n",
    "        print(f\"Processed {i} reviews.\")"
   ]
  },
  {
   "cell_type": "markdown",
   "metadata": {},
   "source": [
    "### Saving File"
   ]
  },
  {
   "cell_type": "code",
   "execution_count": null,
   "metadata": {},
   "outputs": [],
   "source": [
    "# Saving preprocessed file \n",
    "## Importing CSV file\n",
    "data = pd.read_csv(r\"C:\\Users\\ksrey\\OneDrive\\Desktop\\hotel_reviews.csv\", encoding='ISO-8859-1')\n",
    "data.to_csv(\"Hotel-rating-sentiments.csv\",index=False)\n",
    "data.Sentiment.value_counts()"
   ]
  }
 ],
 "metadata": {
  "language_info": {
   "name": "python"
  }
 },
 "nbformat": 4,
 "nbformat_minor": 2
}
