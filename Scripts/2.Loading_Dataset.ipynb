{
 "cells": [
  {
   "cell_type": "markdown",
   "metadata": {},
   "source": [
    "## Loading Pre-Processed Data"
   ]
  },
  {
   "cell_type": "code",
   "execution_count": null,
   "metadata": {},
   "outputs": [],
   "source": [
    "# Importing the Trip-Advisor-Hotel-Review Dataset\n",
    "data=pd.read_csv('Trip-Advisor-rating-sentiments.csv')\n",
    "\n",
    "# Having a look at the data\n",
    "data.head()\n",
    "\n",
    "# Checking Missing Values\n",
    "data = pd.read_csv(\"tripadvisor_hotel_reviews.csv\", encoding='ISO-8859-1')\n",
    "data.isna().sum()"
   ]
  }
 ],
 "metadata": {
  "language_info": {
   "name": "python"
  }
 },
 "nbformat": 4,
 "nbformat_minor": 2
}
